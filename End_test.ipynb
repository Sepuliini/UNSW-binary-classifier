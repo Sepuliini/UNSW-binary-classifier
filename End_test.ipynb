{
 "cells": [
  {
   "cell_type": "code",
   "execution_count": 1,
   "id": "87477612",
   "metadata": {},
   "outputs": [
    {
     "name": "stderr",
     "output_type": "stream",
     "text": [
      "2023-12-08 19:03:24.225977: I tensorflow/core/platform/cpu_feature_guard.cc:182] This TensorFlow binary is optimized to use available CPU instructions in performance-critical operations.\n",
      "To enable the following instructions: AVX2 FMA, in other operations, rebuild TensorFlow with the appropriate compiler flags.\n"
     ]
    }
   ],
   "source": [
    "import pandas as pd\n",
    "import numpy as np\n",
    "import shutil\n",
    "import matplotlib.pyplot as plt\n",
    "from matplotlib.backends.backend_pdf import PdfPages\n",
    "import os\n",
    "from datetime import datetime\n",
    "import seaborn as sns\n",
    "from pandas.plotting import parallel_coordinates\n",
    "\n",
    "from sklearn.preprocessing import OneHotEncoder, StandardScaler, normalize, LabelEncoder\n",
    "from sklearn.metrics import accuracy_score, precision_score, recall_score, f1_score\n",
    "from sklearn.utils.class_weight import compute_class_weight\n",
    "from sklearn.model_selection import train_test_split, ParameterGrid\n",
    "from sklearn.metrics import confusion_matrix, ConfusionMatrixDisplay, accuracy_score, precision_score, recall_score, f1_score, classification_report\n",
    "\n",
    "from tensorflow.keras import Model, layers\n",
    "from tensorflow.keras.models import Sequential\n",
    "from tensorflow.keras.layers import Input, Dense, Dropout, GaussianNoise\n",
    "from tensorflow.keras.optimizers import Adam\n",
    "from tensorflow.keras.callbacks import EarlyStopping, ModelCheckpoint, CSVLogger\n",
    "from tensorflow.keras.regularizers import l2\n",
    "from tensorflow.keras.models import load_model"
   ]
  },
  {
   "cell_type": "code",
   "execution_count": 2,
   "id": "dae7a7eb",
   "metadata": {},
   "outputs": [],
   "source": [
    "# In the preprocess file the unseen test data was saved and it will be used here\n",
    "\n",
    "# Directory where the datasets are saved\n",
    "load_dir = '/Users/sepuliini/Desktop/Preprocessed_data'\n",
    "\n",
    "# Load each dataset\n",
    "x_unseen = np.load(os.path.join(load_dir, 'x_unseen.npy'))\n",
    "y_test_unseen = np.load(os.path.join(load_dir, 'y_test_unseen.npy'))\n",
    "\n",
    "# Path to the directory containing 'saved_model.pb'\n",
    "model_dir = '/Users/sepuliini/Desktop/NN'\n",
    "\n",
    "# Load the saved model\n",
    "classifier = load_model(model_dir)"
   ]
  },
  {
   "cell_type": "code",
   "execution_count": 3,
   "id": "85f12577",
   "metadata": {},
   "outputs": [
    {
     "name": "stdout",
     "output_type": "stream",
     "text": [
      "4384/4384 [==============================] - 5s 990us/step\n",
      "Accuracy: 0.9168763767795656\n"
     ]
    }
   ],
   "source": [
    "# Predicting on unseen test data\n",
    "preds_scaled = classifier.predict(x_unseen)\n",
    "# Converting probabilities to binary predictions\n",
    "preds = (preds_scaled > 0.5).astype('int')\n",
    "preds.shape, x_unseen.shape\n",
    "\n",
    "# Calculating the accuracy on unseen test data\n",
    "accuracy = accuracy_score(y_test_unseen, preds)\n",
    "\n",
    "print(f\"Accuracy: {accuracy}\")"
   ]
  },
  {
   "cell_type": "code",
   "execution_count": 4,
   "id": "a1ad7fdb",
   "metadata": {},
   "outputs": [
    {
     "data": {
      "image/png": "[encoded data removed]",
      "text/plain": [
       "<Figure size 600x600 with 2 Axes>"
      ]
     },
     "metadata": {},
     "output_type": "display_data"
    }
   ],
   "source": [
    "# Generating and displaying the confusion matrix\n",
    "cm = confusion_matrix(y_test_unseen, preds)\n",
    "fig, ax = plt.subplots(figsize=(6,6))\n",
    "disp = ConfusionMatrixDisplay(confusion_matrix=cm, display_labels=[\"Class 0\", \"Class 1\"])\n",
    "disp.plot(ax=ax)\n",
    "plt.show()"
   ]
  },
  {
   "cell_type": "code",
   "execution_count": 5,
   "id": "755f1079",
   "metadata": {},
   "outputs": [
    {
     "name": "stdout",
     "output_type": "stream",
     "text": [
      "Binary classification results: \n",
      " ACC 0.91688, PREC: 0.96814, REC 0.90770, F1 0.93695 \n",
      "               precision    recall  f1-score   support\n",
      "\n",
      "     Class 0       0.83      0.94      0.88     44831\n",
      "     Class 1       0.97      0.91      0.94     95442\n",
      "\n",
      "    accuracy                           0.92    140273\n",
      "   macro avg       0.90      0.92      0.91    140273\n",
      "weighted avg       0.92      0.92      0.92    140273\n",
      "\n"
     ]
    }
   ],
   "source": [
    "# Calculating additional evaluation metrics\n",
    "acc = accuracy_score(y_test_unseen, preds)\n",
    "prec = precision_score(y_test_unseen, preds, average=\"binary\")\n",
    "rec = recall_score(y_test_unseen, preds, average=\"binary\")\n",
    "f1_score_value = f1_score(y_test_unseen, preds, average=\"binary\")\n",
    "\n",
    "# Printing the summary of binary classification results\n",
    "title = f\"Binary classification results: \\n ACC {acc:.5f}, PREC: {prec:.5f}, REC {rec:.5f}, F1 {f1_score_value:.5f}\"\n",
    "print(title, \"\\n\", classification_report(y_test_unseen, preds, target_names=[\"Class 0\", \"Class 1\"]))"
   ]
  },
  {
   "cell_type": "markdown",
   "id": "3f4112a7",
   "metadata": {},
   "source": [
    "# Analysis Report: Binary Classification Model\n",
    "\n",
    "The binary classification model's performance is analyzed based on the provided metrics. Below is a detailed analysis:\n",
    "\n",
    "### Binary Classification Results\n",
    "\n",
    "| Metric     | Score    |\n",
    "|------------|----------|\n",
    "| Accuracy   | 0.91688  |\n",
    "| Precision  | 0.96814  |\n",
    "| Recall     | 0.90770  |\n",
    "| F1 Score   | 0.93695  |\n",
    "\n",
    "### Classification Report\n",
    "\n",
    "| Class      | Precision | Recall  | F1-Score | Support |\n",
    "|------------|-----------|---------|----------|---------|\n",
    "| Class 0    | 0.83      | 0.94    | 0.88     | 44831   |\n",
    "| Class 1    | 0.97      | 0.91    | 0.94     | 95442   |\n",
    "|            |           |         |          |         |\n",
    "| **Accuracy** |         |         | **0.92**  | 140273  |\n",
    "| **Macro Avg** | 0.90    | 0.92    | 0.91     | 140273  |\n",
    "| **Weighted Avg** | 0.92 | 0.92    | 0.92     | 140273  |\n",
    "\n",
    "## Model Performance Analysis\n",
    "\n",
    "### Overall Metrics\n",
    "\n",
    "- **Accuracy**: 91.688%, indicating the model's high rate of correctly classifying both attack and non-attack instances.\n",
    "- **Precision (Class 1)**: 96.814%, reflecting the model's reliability in predicting network attacks.\n",
    "- **Recall (Class 1)**: 90.770%, showing the model's ability to identify most of the actual attack instances.\n",
    "- **F1 Score**: 93.695%, representing a balanced measure of precision and recall.\n",
    "\n",
    "### Class-wise Breakdown\n",
    "\n",
    "- **Class 0 (Non-Attacks)**:\n",
    "  - Precision: 83%, suggesting a moderate rate of false positives.\n",
    "  - Recall: 94%, indicating high sensitivity in detecting true non-attack instances.\n",
    "- **Class 1 (Attacks)**:\n",
    "  - Precision: 97%, denoting a high rate of correctly identified attacks.\n",
    "  - Recall: 91%, confirming the model's effectiveness in capturing attack instances.\n",
    "\n",
    "### Averages\n",
    "\n",
    "- **Macro Average**: Balanced performance across both classes.\n",
    "- **Weighted Average**: Robust performance considering class imbalance.\n",
    "\n",
    "## Learning Behavior and Model Insights\n",
    "\n",
    "- **Strengths**: High precision in detecting attacks makes the model particularly useful for scenarios where the cost of missing an attack is high.\n",
    "- **Limitations**: The model shows a higher rate of false positives for Class 0, indicating room for improvement in distinguishing non-attack instances.\n",
    "\n",
    "## Recommendations for Improvement\n",
    "\n",
    "1. **Reducing False Positives**: Investigate features leading to false positives in Class 0.\n",
    "2. **Hyperparameter Tuning**: Experiment with hyperparameters, including the number of layers, neurons, and learning rate, to optimize model performance further.\n",
    "3. **Extended Feature Engineering**: Explore additional feature engineering techniques to enhance model capability, especially for features that are significant in identifying non-attack instances.\n"
   ]
  },
  {
   "cell_type": "code",
   "execution_count": null,
   "id": "62e986ab",
   "metadata": {},
   "outputs": [],
   "source": []
  }
 ],
 "metadata": {
  "kernelspec": {
   "display_name": "Python 3 (ipykernel)",
   "language": "python",
   "name": "python3"
  },
  "language_info": {
   "codemirror_mode": {
    "name": "ipython",
    "version": 3
   },
   "file_extension": ".py",
   "mimetype": "text/x-python",
   "name": "python",
   "nbconvert_exporter": "python",
   "pygments_lexer": "ipython3",
   "version": "3.11.5"
  }
 },
 "nbformat": 4,
 "nbformat_minor": 5
}
